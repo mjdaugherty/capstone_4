{
 "cells": [
  {
   "cell_type": "markdown",
   "metadata": {},
   "source": [
    "# Data Collection"
   ]
  },
  {
   "cell_type": "markdown",
   "metadata": {},
   "source": [
    "To collect the data necessary for this project, I used the Sloan Digital Sky Survey (SDSS) website's [custom SQL search](http://skyserver.sdss.org/dr16/en/tools/search/sql.aspx). This is a very powerful tool that allows users to search any of SDSS's databases and specify a list of parameters to limit their search to only the data they need, then return the data in any of several formats, including a CSV file. My SQL query was as follows:\n",
    "\n",
    "![SQL Query](https://mjdaugherty.github.io/images/sqlsearch.png)\n",
    "\n",
    "Unfortunately, this produced a CSV file with an extraneous column name, \"#Table1\", with the actual column names - the list of SQL search parameters - comprising the first row under that column. To change the file to a form I could work with, I chose to open it in a text editor and remove the \"#Table1\" column, then saved the results in a new file, sdss.csv, which can be found in the [data directory](../data):\n",
    "\n",
    "![Removing #Table1 Column](https://mjdaugherty.github.io/images/editcsv.png)\n",
    "\n",
    "The data consist of 100,000 rows and 6 columns:\n",
    "\n",
    "| Column name | Description                            | Datatype |\n",
    "|-------------|----------------------------------------|----------|\n",
    "| objid       | database ID                            | int      |\n",
    "| ra          | right ascension                        | float    |\n",
    "| dec         | declination                            | float    |\n",
    "| u           | magnitude in ultraviolet band (365 nm) | float    |\n",
    "| g           | magnitude in green band (464 nm)       | float    |\n",
    "| r           | magnitude in red band (658 nm)         | float    |\n",
    "| i           | magnitude in infrared band (806 nm)    | float    |\n",
    "| z           | magnitude in infrared band (900 nm)    | float    |"
   ]
  }
 ],
 "metadata": {
  "kernelspec": {
   "display_name": "Python 3",
   "language": "python",
   "name": "python3"
  },
  "language_info": {
   "codemirror_mode": {
    "name": "ipython",
    "version": 3
   },
   "file_extension": ".py",
   "mimetype": "text/x-python",
   "name": "python",
   "nbconvert_exporter": "python",
   "pygments_lexer": "ipython3",
   "version": "3.7.6"
  }
 },
 "nbformat": 4,
 "nbformat_minor": 4
}
