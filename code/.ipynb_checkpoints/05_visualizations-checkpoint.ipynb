{
 "cells": [
  {
   "cell_type": "code",
   "execution_count": 1,
   "metadata": {},
   "outputs": [],
   "source": [
    "import numpy as np, pandas as pd\n",
    "import plotly.express as px"
   ]
  },
  {
   "cell_type": "code",
   "execution_count": 2,
   "metadata": {},
   "outputs": [],
   "source": [
    "compare = pd.read_csv(\"../data/predictions.csv\", index_col=False)\n",
    "# read in csv of predictions and measurements"
   ]
  },
  {
   "cell_type": "code",
   "execution_count": 3,
   "metadata": {},
   "outputs": [],
   "source": [
    "compare_low = compare[(compare[\"measured\"] < 0.2) & (compare[\"predicted\"] < 0.2)]\n",
    "# limit redshift to < 0.2 to avoid crowding plots and slowing down computer"
   ]
  },
  {
   "cell_type": "markdown",
   "metadata": {},
   "source": [
    "### In these plots, the color of a point always corresponds to its measured redshift. Its distance from the center represents its measured redshift in the first and second plot and to its predicted redshift in the third and fourth. The first two plots, of course, show a smooth color gradient from the center to the edge; the others shoow the same pattern, but with some clear deviations. These plots serve to give a qualitative idea of the performance of the model."
   ]
  },
  {
   "cell_type": "code",
   "execution_count": 4,
   "metadata": {},
   "outputs": [],
   "source": [
    "fig = px.scatter_polar(\n",
    "    compare_low,\n",
    "    r=\"measured\",\n",
    "    theta=\"dec\",\n",
    "\trange_theta=[-8, 68],\n",
    "\tstart_angle=45,\n",
    "\tdirection=\"clockwise\",\n",
    "\tlabels={\"measured\": \"Redshift (measured)\"},\n",
    "    color=\"measured\",\n",
    "\tcolor_continuous_scale=[\"blue\", \"red\"],\n",
    "\ttitle=\"Measured redshift (Dec range: 76 degrees)\"\n",
    ")\n",
    "\n",
    "fig.show()"
   ]
  },
  {
   "cell_type": "code",
   "execution_count": 5,
   "metadata": {},
   "outputs": [],
   "source": [
    "fig = px.scatter_polar(\n",
    "    compare_low,\n",
    "    r=\"measured\",\n",
    "    theta=\"ra\",\n",
    "\trange_theta=[115, 260],\n",
    "\tstart_angle=45,\n",
    "\tdirection=\"clockwise\",\n",
    "\tlabels={\"measured\": \"Redshift (measured)\"},\n",
    "    color=\"measured\",\n",
    "\tcolor_continuous_scale=[\"blue\", \"red\"],\n",
    "\ttitle=\"Measured redshift (RA range: 145 degrees)\"\n",
    ")\n",
    "\n",
    "fig.show()"
   ]
  },
  {
   "cell_type": "code",
   "execution_count": 6,
   "metadata": {},
   "outputs": [],
   "source": [
    "fig = px.scatter_polar(\n",
    "    compare_low,\n",
    "    r=\"predicted\",\n",
    "    theta=\"dec\",\n",
    "\trange_theta=[-8, 68],\n",
    "\tstart_angle=45,\n",
    "\tdirection=\"clockwise\",\n",
    "\tlabels={\"predicted\": \"Redshift (measured)\"},\n",
    "    color=\"measured\",\n",
    "\tcolor_continuous_scale=[\"blue\", \"red\"],\n",
    "\ttitle=\"Predicted redshift (Dec range: 76 degrees)\"\n",
    ")\n",
    "\n",
    "fig.show()"
   ]
  },
  {
   "cell_type": "code",
   "execution_count": 7,
   "metadata": {},
   "outputs": [],
   "source": [
    "fig = px.scatter_polar(\n",
    "    compare_low,\n",
    "    r=\"predicted\",\n",
    "    theta=\"ra\",\n",
    "\trange_theta=[115, 260],\n",
    "\tstart_angle=45,\n",
    "\tdirection=\"clockwise\",\n",
    "\tlabels={\"predicted\": \"Redshift (measured)\"},\n",
    "    color=\"measured\",\n",
    "\tcolor_continuous_scale=[\"blue\", \"red\"],\n",
    "\ttitle=\"Predicted redshift (RA range: 145 degrees)\"\n",
    ")\n",
    "\n",
    "fig.show()"
   ]
  }
 ],
 "metadata": {
  "kernelspec": {
   "display_name": "Python 3",
   "language": "python",
   "name": "python3"
  },
  "language_info": {
   "codemirror_mode": {
    "name": "ipython",
    "version": 3
   },
   "file_extension": ".py",
   "mimetype": "text/x-python",
   "name": "python",
   "nbconvert_exporter": "python",
   "pygments_lexer": "ipython3",
   "version": "3.7.6"
  }
 },
 "nbformat": 4,
 "nbformat_minor": 4
}
