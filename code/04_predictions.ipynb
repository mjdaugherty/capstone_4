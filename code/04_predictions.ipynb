{
 "cells": [
  {
   "cell_type": "code",
   "execution_count": 1,
   "metadata": {},
   "outputs": [],
   "source": [
    "import numpy as np, pandas as pd\n",
    "from sklearn.ensemble import RandomForestRegressor\n",
    "from sklearn.model_selection import train_test_split"
   ]
  },
  {
   "cell_type": "code",
   "execution_count": 2,
   "metadata": {},
   "outputs": [],
   "source": [
    "galaxies = pd.read_csv(\"../data/sdss_clean.csv\", index_col=False)"
   ]
  },
  {
   "cell_type": "code",
   "execution_count": 3,
   "metadata": {},
   "outputs": [],
   "source": [
    "model = RandomForestRegressor(n_estimators=40, max_depth=10, min_samples_split=20, n_jobs=6, random_state=20200310)\n",
    "# instantiate optimized random forest model"
   ]
  },
  {
   "cell_type": "code",
   "execution_count": 4,
   "metadata": {},
   "outputs": [],
   "source": [
    "X = galaxies.drop(columns=[\"ra\", \"dec\", \"redshift\"])\n",
    "y = galaxies[\"redshift\"]\n",
    "# create feature matrix and target vector"
   ]
  },
  {
   "cell_type": "code",
   "execution_count": 5,
   "metadata": {},
   "outputs": [],
   "source": [
    "X_train, X_test, y_train, y_test = train_test_split(X, y, random_state=20200310)"
   ]
  },
  {
   "cell_type": "code",
   "execution_count": 6,
   "metadata": {},
   "outputs": [],
   "source": [
    "model.fit(X_train, y_train);\n",
    "# fit the model"
   ]
  },
  {
   "cell_type": "code",
   "execution_count": 7,
   "metadata": {},
   "outputs": [],
   "source": [
    "predictions = model.predict(X_test)\n",
    "# make predictions on test set"
   ]
  },
  {
   "cell_type": "code",
   "execution_count": 18,
   "metadata": {},
   "outputs": [],
   "source": [
    "coords = pd.DataFrame(galaxies[[\"ra\", \"dec\"]], index=X_test.index)\n",
    "predicted = pd.DataFrame(predictions, index=X_test.index)\n",
    "measured = pd.DataFrame(y[X_test.index])\n",
    "# make DataFrames of coordinates and predicted and measured redshifts for comparison"
   ]
  },
  {
   "cell_type": "code",
   "execution_count": 19,
   "metadata": {},
   "outputs": [
    {
     "data": {
      "text/plain": [
       "(Int64Index([94726, 95323, 47033, 78833, 58784], dtype='int64'),\n",
       " Int64Index([94726, 95323, 47033, 78833, 58784], dtype='int64'),\n",
       " Int64Index([94726, 95323, 47033, 78833, 58784], dtype='int64'))"
      ]
     },
     "execution_count": 19,
     "metadata": {},
     "output_type": "execute_result"
    }
   ],
   "source": [
    "coords.index[:5], predicted.index[:5], measured.index[:5]\n",
    "# make sure the indices match"
   ]
  },
  {
   "cell_type": "code",
   "execution_count": 21,
   "metadata": {},
   "outputs": [],
   "source": [
    "predictions_frame = coords.join(predicted.join(measured).rename(columns={0: \"predicted\", \"redshift\": \"measured\"}))\n",
    "# combine coordinates with predicted and measured redshifts into one DataFrame"
   ]
  },
  {
   "cell_type": "code",
   "execution_count": 22,
   "metadata": {},
   "outputs": [
    {
     "data": {
      "text/html": [
       "<div>\n",
       "<style scoped>\n",
       "    .dataframe tbody tr th:only-of-type {\n",
       "        vertical-align: middle;\n",
       "    }\n",
       "\n",
       "    .dataframe tbody tr th {\n",
       "        vertical-align: top;\n",
       "    }\n",
       "\n",
       "    .dataframe thead th {\n",
       "        text-align: right;\n",
       "    }\n",
       "</style>\n",
       "<table border=\"1\" class=\"dataframe\">\n",
       "  <thead>\n",
       "    <tr style=\"text-align: right;\">\n",
       "      <th></th>\n",
       "      <th>ra</th>\n",
       "      <th>dec</th>\n",
       "      <th>predicted</th>\n",
       "      <th>measured</th>\n",
       "    </tr>\n",
       "  </thead>\n",
       "  <tbody>\n",
       "    <tr>\n",
       "      <th>94726</th>\n",
       "      <td>130.786044</td>\n",
       "      <td>53.649087</td>\n",
       "      <td>0.628464</td>\n",
       "      <td>0.679837</td>\n",
       "    </tr>\n",
       "    <tr>\n",
       "      <th>95323</th>\n",
       "      <td>116.132952</td>\n",
       "      <td>39.871280</td>\n",
       "      <td>0.608557</td>\n",
       "      <td>0.474598</td>\n",
       "    </tr>\n",
       "    <tr>\n",
       "      <th>47033</th>\n",
       "      <td>244.272887</td>\n",
       "      <td>46.892903</td>\n",
       "      <td>0.707678</td>\n",
       "      <td>0.773484</td>\n",
       "    </tr>\n",
       "    <tr>\n",
       "      <th>78833</th>\n",
       "      <td>215.904144</td>\n",
       "      <td>65.132218</td>\n",
       "      <td>0.091154</td>\n",
       "      <td>0.090997</td>\n",
       "    </tr>\n",
       "    <tr>\n",
       "      <th>58784</th>\n",
       "      <td>256.838457</td>\n",
       "      <td>59.699704</td>\n",
       "      <td>0.060734</td>\n",
       "      <td>0.065224</td>\n",
       "    </tr>\n",
       "    <tr>\n",
       "      <th>...</th>\n",
       "      <td>...</td>\n",
       "      <td>...</td>\n",
       "      <td>...</td>\n",
       "      <td>...</td>\n",
       "    </tr>\n",
       "    <tr>\n",
       "      <th>60210</th>\n",
       "      <td>157.971169</td>\n",
       "      <td>63.769640</td>\n",
       "      <td>0.118052</td>\n",
       "      <td>0.104300</td>\n",
       "    </tr>\n",
       "    <tr>\n",
       "      <th>490</th>\n",
       "      <td>209.926041</td>\n",
       "      <td>0.487777</td>\n",
       "      <td>0.697768</td>\n",
       "      <td>0.715263</td>\n",
       "    </tr>\n",
       "    <tr>\n",
       "      <th>2673</th>\n",
       "      <td>134.095708</td>\n",
       "      <td>-0.163924</td>\n",
       "      <td>0.575788</td>\n",
       "      <td>0.566326</td>\n",
       "    </tr>\n",
       "    <tr>\n",
       "      <th>82274</th>\n",
       "      <td>195.546076</td>\n",
       "      <td>66.051901</td>\n",
       "      <td>0.308508</td>\n",
       "      <td>0.322330</td>\n",
       "    </tr>\n",
       "    <tr>\n",
       "      <th>71891</th>\n",
       "      <td>223.918389</td>\n",
       "      <td>-0.215861</td>\n",
       "      <td>0.378763</td>\n",
       "      <td>0.377556</td>\n",
       "    </tr>\n",
       "  </tbody>\n",
       "</table>\n",
       "<p>24864 rows × 4 columns</p>\n",
       "</div>"
      ],
      "text/plain": [
       "               ra        dec  predicted  measured\n",
       "94726  130.786044  53.649087   0.628464  0.679837\n",
       "95323  116.132952  39.871280   0.608557  0.474598\n",
       "47033  244.272887  46.892903   0.707678  0.773484\n",
       "78833  215.904144  65.132218   0.091154  0.090997\n",
       "58784  256.838457  59.699704   0.060734  0.065224\n",
       "...           ...        ...        ...       ...\n",
       "60210  157.971169  63.769640   0.118052  0.104300\n",
       "490    209.926041   0.487777   0.697768  0.715263\n",
       "2673   134.095708  -0.163924   0.575788  0.566326\n",
       "82274  195.546076  66.051901   0.308508  0.322330\n",
       "71891  223.918389  -0.215861   0.378763  0.377556\n",
       "\n",
       "[24864 rows x 4 columns]"
      ]
     },
     "execution_count": 22,
     "metadata": {},
     "output_type": "execute_result"
    }
   ],
   "source": [
    "predictions_frame\n",
    "# make sure it worked"
   ]
  },
  {
   "cell_type": "code",
   "execution_count": 23,
   "metadata": {},
   "outputs": [],
   "source": [
    "predictions_frame.to_csv(\"../data/predictions.csv\", index=False)\n",
    "# export predictions to csv file"
   ]
  }
 ],
 "metadata": {
  "kernelspec": {
   "display_name": "Python 3",
   "language": "python",
   "name": "python3"
  },
  "language_info": {
   "codemirror_mode": {
    "name": "ipython",
    "version": 3
   },
   "file_extension": ".py",
   "mimetype": "text/x-python",
   "name": "python",
   "nbconvert_exporter": "python",
   "pygments_lexer": "ipython3",
   "version": "3.7.6"
  }
 },
 "nbformat": 4,
 "nbformat_minor": 4
}
